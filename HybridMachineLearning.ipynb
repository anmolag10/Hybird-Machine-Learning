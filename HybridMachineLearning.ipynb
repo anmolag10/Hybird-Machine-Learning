{
  "nbformat": 4,
  "nbformat_minor": 0,
  "metadata": {
    "colab": {
      "name": "HybridMachineLearning.ipynb",
      "provenance": [],
      "collapsed_sections": []
    },
    "kernelspec": {
      "name": "python3",
      "display_name": "Python 3"
    },
    "language_info": {
      "name": "python"
    }
  },
  "cells": [
    {
      "cell_type": "code",
      "execution_count": null,
      "metadata": {
        "id": "pv0b814erl3-"
      },
      "outputs": [],
      "source": [
        "from sklearn.preprocessing import StandardScaler\n",
        "from sklearn.decomposition import PCA\n",
        "from sklearn.model_selection import ParameterGrid\n",
        "from sklearn.metrics import silhouette_score\n",
        "from sklearn.model_selection import train_test_split\n",
        "from sklearn.tree import DecisionTreeClassifier\n",
        "from collections import OrderedDict\n",
        "from sklearn.cluster import KMeans\n",
        "import pandas as pd\n",
        "import numpy as np\n",
        "import numpy.random as rnd\n",
        "import matplotlib.pyplot as plt"
      ]
    },
    {
      "cell_type": "code",
      "metadata": {
        "id": "Fjg7cI3sufLz",
        "outputId": "43d41cbc-7b35-47d4-ba64-e6f4fbd4ce8d",
        "colab": {
          "base_uri": "https://localhost:8080/"
        }
      },
      "source": [
        "from google.colab import drive\n",
        "drive.mount('/content/drive')"
      ],
      "execution_count": null,
      "outputs": [
        {
          "output_type": "stream",
          "name": "stdout",
          "text": [
            "Mounted at /content/drive\n"
          ]
        }
      ]
    },
    {
      "cell_type": "code",
      "execution_count": null,
      "metadata": {
        "colab": {
          "base_uri": "https://localhost:8080/",
          "height": 363
        },
        "id": "E7copbfDsThT",
        "outputId": "3f7aa441-9ac4-4236-dead-532fd07d03db"
      },
      "outputs": [
        {
          "output_type": "execute_result",
          "data": {
            "text/html": [
              "<div>\n",
              "<style scoped>\n",
              "    .dataframe tbody tr th:only-of-type {\n",
              "        vertical-align: middle;\n",
              "    }\n",
              "\n",
              "    .dataframe tbody tr th {\n",
              "        vertical-align: top;\n",
              "    }\n",
              "\n",
              "    .dataframe thead th {\n",
              "        text-align: right;\n",
              "    }\n",
              "</style>\n",
              "<table border=\"1\" class=\"dataframe\">\n",
              "  <thead>\n",
              "    <tr style=\"text-align: right;\">\n",
              "      <th></th>\n",
              "      <th>name</th>\n",
              "      <th>year</th>\n",
              "      <th>selling_price</th>\n",
              "      <th>km_driven</th>\n",
              "      <th>fuel</th>\n",
              "      <th>seller_type</th>\n",
              "      <th>transmission</th>\n",
              "      <th>owner</th>\n",
              "      <th>mileage</th>\n",
              "      <th>engine</th>\n",
              "      <th>max_power</th>\n",
              "      <th>torque</th>\n",
              "      <th>seats</th>\n",
              "    </tr>\n",
              "  </thead>\n",
              "  <tbody>\n",
              "    <tr>\n",
              "      <th>0</th>\n",
              "      <td>Maruti Swift Dzire VDI</td>\n",
              "      <td>2014</td>\n",
              "      <td>450000</td>\n",
              "      <td>145500</td>\n",
              "      <td>Diesel</td>\n",
              "      <td>Individual</td>\n",
              "      <td>Manual</td>\n",
              "      <td>First Owner</td>\n",
              "      <td>23.4 kmpl</td>\n",
              "      <td>1248 CC</td>\n",
              "      <td>74 bhp</td>\n",
              "      <td>190Nm@ 2000rpm</td>\n",
              "      <td>5.0</td>\n",
              "    </tr>\n",
              "    <tr>\n",
              "      <th>1</th>\n",
              "      <td>Skoda Rapid 1.5 TDI Ambition</td>\n",
              "      <td>2014</td>\n",
              "      <td>370000</td>\n",
              "      <td>120000</td>\n",
              "      <td>Diesel</td>\n",
              "      <td>Individual</td>\n",
              "      <td>Manual</td>\n",
              "      <td>Second Owner</td>\n",
              "      <td>21.14 kmpl</td>\n",
              "      <td>1498 CC</td>\n",
              "      <td>103.52 bhp</td>\n",
              "      <td>250Nm@ 1500-2500rpm</td>\n",
              "      <td>5.0</td>\n",
              "    </tr>\n",
              "    <tr>\n",
              "      <th>2</th>\n",
              "      <td>Honda City 2017-2020 EXi</td>\n",
              "      <td>2006</td>\n",
              "      <td>158000</td>\n",
              "      <td>140000</td>\n",
              "      <td>Petrol</td>\n",
              "      <td>Individual</td>\n",
              "      <td>Manual</td>\n",
              "      <td>Third Owner</td>\n",
              "      <td>17.7 kmpl</td>\n",
              "      <td>1497 CC</td>\n",
              "      <td>78 bhp</td>\n",
              "      <td>12.7@ 2,700(kgm@ rpm)</td>\n",
              "      <td>5.0</td>\n",
              "    </tr>\n",
              "    <tr>\n",
              "      <th>3</th>\n",
              "      <td>Hyundai i20 Sportz Diesel</td>\n",
              "      <td>2010</td>\n",
              "      <td>225000</td>\n",
              "      <td>127000</td>\n",
              "      <td>Diesel</td>\n",
              "      <td>Individual</td>\n",
              "      <td>Manual</td>\n",
              "      <td>First Owner</td>\n",
              "      <td>23.0 kmpl</td>\n",
              "      <td>1396 CC</td>\n",
              "      <td>90 bhp</td>\n",
              "      <td>22.4 kgm at 1750-2750rpm</td>\n",
              "      <td>5.0</td>\n",
              "    </tr>\n",
              "    <tr>\n",
              "      <th>4</th>\n",
              "      <td>Maruti Swift VXI BSIII</td>\n",
              "      <td>2007</td>\n",
              "      <td>130000</td>\n",
              "      <td>120000</td>\n",
              "      <td>Petrol</td>\n",
              "      <td>Individual</td>\n",
              "      <td>Manual</td>\n",
              "      <td>First Owner</td>\n",
              "      <td>16.1 kmpl</td>\n",
              "      <td>1298 CC</td>\n",
              "      <td>88.2 bhp</td>\n",
              "      <td>11.5@ 4,500(kgm@ rpm)</td>\n",
              "      <td>5.0</td>\n",
              "    </tr>\n",
              "    <tr>\n",
              "      <th>5</th>\n",
              "      <td>Hyundai Xcent 1.2 VTVT E Plus</td>\n",
              "      <td>2017</td>\n",
              "      <td>440000</td>\n",
              "      <td>45000</td>\n",
              "      <td>Petrol</td>\n",
              "      <td>Individual</td>\n",
              "      <td>Manual</td>\n",
              "      <td>First Owner</td>\n",
              "      <td>20.14 kmpl</td>\n",
              "      <td>1197 CC</td>\n",
              "      <td>81.86 bhp</td>\n",
              "      <td>113.75nm@ 4000rpm</td>\n",
              "      <td>5.0</td>\n",
              "    </tr>\n",
              "    <tr>\n",
              "      <th>6</th>\n",
              "      <td>Maruti Wagon R LXI DUO BSIII</td>\n",
              "      <td>2007</td>\n",
              "      <td>96000</td>\n",
              "      <td>175000</td>\n",
              "      <td>LPG</td>\n",
              "      <td>Individual</td>\n",
              "      <td>Manual</td>\n",
              "      <td>First Owner</td>\n",
              "      <td>17.3 km/kg</td>\n",
              "      <td>1061 CC</td>\n",
              "      <td>57.5 bhp</td>\n",
              "      <td>7.8@ 4,500(kgm@ rpm)</td>\n",
              "      <td>5.0</td>\n",
              "    </tr>\n",
              "    <tr>\n",
              "      <th>7</th>\n",
              "      <td>Maruti 800 DX BSII</td>\n",
              "      <td>2001</td>\n",
              "      <td>45000</td>\n",
              "      <td>5000</td>\n",
              "      <td>Petrol</td>\n",
              "      <td>Individual</td>\n",
              "      <td>Manual</td>\n",
              "      <td>Second Owner</td>\n",
              "      <td>16.1 kmpl</td>\n",
              "      <td>796 CC</td>\n",
              "      <td>37 bhp</td>\n",
              "      <td>59Nm@ 2500rpm</td>\n",
              "      <td>4.0</td>\n",
              "    </tr>\n",
              "    <tr>\n",
              "      <th>8</th>\n",
              "      <td>Toyota Etios VXD</td>\n",
              "      <td>2011</td>\n",
              "      <td>350000</td>\n",
              "      <td>90000</td>\n",
              "      <td>Diesel</td>\n",
              "      <td>Individual</td>\n",
              "      <td>Manual</td>\n",
              "      <td>First Owner</td>\n",
              "      <td>23.59 kmpl</td>\n",
              "      <td>1364 CC</td>\n",
              "      <td>67.1 bhp</td>\n",
              "      <td>170Nm@ 1800-2400rpm</td>\n",
              "      <td>5.0</td>\n",
              "    </tr>\n",
              "    <tr>\n",
              "      <th>9</th>\n",
              "      <td>Ford Figo Diesel Celebration Edition</td>\n",
              "      <td>2013</td>\n",
              "      <td>200000</td>\n",
              "      <td>169000</td>\n",
              "      <td>Diesel</td>\n",
              "      <td>Individual</td>\n",
              "      <td>Manual</td>\n",
              "      <td>First Owner</td>\n",
              "      <td>20.0 kmpl</td>\n",
              "      <td>1399 CC</td>\n",
              "      <td>68.1 bhp</td>\n",
              "      <td>160Nm@ 2000rpm</td>\n",
              "      <td>5.0</td>\n",
              "    </tr>\n",
              "  </tbody>\n",
              "</table>\n",
              "</div>"
            ],
            "text/plain": [
              "                                   name  year  ...                    torque  seats\n",
              "0                Maruti Swift Dzire VDI  2014  ...            190Nm@ 2000rpm    5.0\n",
              "1          Skoda Rapid 1.5 TDI Ambition  2014  ...       250Nm@ 1500-2500rpm    5.0\n",
              "2              Honda City 2017-2020 EXi  2006  ...     12.7@ 2,700(kgm@ rpm)    5.0\n",
              "3             Hyundai i20 Sportz Diesel  2010  ...  22.4 kgm at 1750-2750rpm    5.0\n",
              "4                Maruti Swift VXI BSIII  2007  ...     11.5@ 4,500(kgm@ rpm)    5.0\n",
              "5         Hyundai Xcent 1.2 VTVT E Plus  2017  ...         113.75nm@ 4000rpm    5.0\n",
              "6          Maruti Wagon R LXI DUO BSIII  2007  ...      7.8@ 4,500(kgm@ rpm)    5.0\n",
              "7                    Maruti 800 DX BSII  2001  ...             59Nm@ 2500rpm    4.0\n",
              "8                      Toyota Etios VXD  2011  ...       170Nm@ 1800-2400rpm    5.0\n",
              "9  Ford Figo Diesel Celebration Edition  2013  ...            160Nm@ 2000rpm    5.0\n",
              "\n",
              "[10 rows x 13 columns]"
            ]
          },
          "metadata": {},
          "execution_count": 3
        }
      ],
      "source": [
        "df=pd.read_csv(\"/content/drive/My Drive/DMPA ENDSEM PROJECT/car_price.csv\")\n",
        "df.head(10)"
      ]
    },
    {
      "cell_type": "code",
      "execution_count": null,
      "metadata": {
        "colab": {
          "base_uri": "https://localhost:8080/"
        },
        "id": "LLoKJHllsf_y",
        "outputId": "eb80809f-756f-4bac-c1c1-2e8bd0e52d10"
      },
      "outputs": [
        {
          "output_type": "stream",
          "name": "stdout",
          "text": [
            "Shape of the data frame before dropping:(8128, 13)\n",
            "Shape of the new data frame after dropping:(7906, 13)\n"
          ]
        }
      ],
      "source": [
        "#Dropping all the unknown and null values\n",
        "print(\"Shape of the data frame before dropping:\" + str(df.shape))\n",
        "df=df.dropna()\n",
        "print(\"Shape of the new data frame after dropping:\" + str(df.shape))\n"
      ]
    },
    {
      "cell_type": "code",
      "execution_count": null,
      "metadata": {
        "id": "lOpw9ksBtJQs"
      },
      "outputs": [],
      "source": [
        "df['mileage']=df['mileage'].apply(lambda x:float(x.split()[0]))\n",
        "df['engine']=df['engine'].apply(lambda x: float(x.split()[0]))\n",
        "df['max_power']=df['max_power'].apply(lambda x: float(x.split()[0]))"
      ]
    },
    {
      "cell_type": "code",
      "execution_count": null,
      "metadata": {
        "id": "xaZR_kjOtpt6"
      },
      "outputs": [],
      "source": [
        "df\n",
        "df2 = df\n",
        "y_df = df['selling_price']\n",
        "#dropping the selling price from the data frame\n",
        "df2 = df2.drop(columns = 'selling_price')\n"
      ]
    },
    {
      "cell_type": "code",
      "source": [
        "df2=df2.drop(columns='name')\n",
        "df2=df2.drop(columns='torque')\n",
        "\n",
        "print(df2['fuel'].unique())\n",
        "print(df2['seller_type'].unique())\n",
        "print(df2['transmission'].unique())\n",
        "print(df2['owner'].unique())"
      ],
      "metadata": {
        "colab": {
          "base_uri": "https://localhost:8080/"
        },
        "id": "5i7EQgQQG5Mk",
        "outputId": "3d5877e5-bf22-4d2c-e585-41d3f3357f67"
      },
      "execution_count": null,
      "outputs": [
        {
          "output_type": "stream",
          "name": "stdout",
          "text": [
            "['Diesel' 'Petrol' 'LPG' 'CNG']\n",
            "['Individual' 'Dealer' 'Trustmark Dealer']\n",
            "['Manual' 'Automatic']\n",
            "['First Owner' 'Second Owner' 'Third Owner' 'Fourth & Above Owner'\n",
            " 'Test Drive Car']\n"
          ]
        }
      ]
    },
    {
      "cell_type": "code",
      "source": [
        "df2['fuel'].replace(['Diesel', 'Petrol' ,'LPG' ,'CNG'],[0,1,2,3],inplace=True)\n",
        "df2['seller_type'].replace(['Individual' ,'Dealer', 'Trustmark Dealer'],[0,1,2],inplace=True)\n",
        "df2['transmission'].replace(['Manual' ,'Automatic'],[0,1],inplace=True)\n",
        "df2['owner'].replace(['First Owner' ,'Second Owner' ,'Third Owner', 'Fourth & Above Owner',\n",
        " 'Test Drive Car'],[0,1,2,3,4],inplace=True)"
      ],
      "metadata": {
        "id": "eriggpz9IRQ2"
      },
      "execution_count": null,
      "outputs": []
    },
    {
      "cell_type": "code",
      "source": [
        "df2"
      ],
      "metadata": {
        "colab": {
          "base_uri": "https://localhost:8080/",
          "height": 424
        },
        "id": "kY2rrDGfIYlM",
        "outputId": "98af5cea-e083-42c6-a3e8-d976bc46f1ea"
      },
      "execution_count": null,
      "outputs": [
        {
          "output_type": "execute_result",
          "data": {
            "text/html": [
              "<div>\n",
              "<style scoped>\n",
              "    .dataframe tbody tr th:only-of-type {\n",
              "        vertical-align: middle;\n",
              "    }\n",
              "\n",
              "    .dataframe tbody tr th {\n",
              "        vertical-align: top;\n",
              "    }\n",
              "\n",
              "    .dataframe thead th {\n",
              "        text-align: right;\n",
              "    }\n",
              "</style>\n",
              "<table border=\"1\" class=\"dataframe\">\n",
              "  <thead>\n",
              "    <tr style=\"text-align: right;\">\n",
              "      <th></th>\n",
              "      <th>year</th>\n",
              "      <th>km_driven</th>\n",
              "      <th>fuel</th>\n",
              "      <th>seller_type</th>\n",
              "      <th>transmission</th>\n",
              "      <th>owner</th>\n",
              "      <th>mileage</th>\n",
              "      <th>engine</th>\n",
              "      <th>max_power</th>\n",
              "      <th>seats</th>\n",
              "    </tr>\n",
              "  </thead>\n",
              "  <tbody>\n",
              "    <tr>\n",
              "      <th>0</th>\n",
              "      <td>2014</td>\n",
              "      <td>145500</td>\n",
              "      <td>0</td>\n",
              "      <td>0</td>\n",
              "      <td>0</td>\n",
              "      <td>0</td>\n",
              "      <td>23.40</td>\n",
              "      <td>1248.0</td>\n",
              "      <td>74.00</td>\n",
              "      <td>5.0</td>\n",
              "    </tr>\n",
              "    <tr>\n",
              "      <th>1</th>\n",
              "      <td>2014</td>\n",
              "      <td>120000</td>\n",
              "      <td>0</td>\n",
              "      <td>0</td>\n",
              "      <td>0</td>\n",
              "      <td>1</td>\n",
              "      <td>21.14</td>\n",
              "      <td>1498.0</td>\n",
              "      <td>103.52</td>\n",
              "      <td>5.0</td>\n",
              "    </tr>\n",
              "    <tr>\n",
              "      <th>2</th>\n",
              "      <td>2006</td>\n",
              "      <td>140000</td>\n",
              "      <td>1</td>\n",
              "      <td>0</td>\n",
              "      <td>0</td>\n",
              "      <td>2</td>\n",
              "      <td>17.70</td>\n",
              "      <td>1497.0</td>\n",
              "      <td>78.00</td>\n",
              "      <td>5.0</td>\n",
              "    </tr>\n",
              "    <tr>\n",
              "      <th>3</th>\n",
              "      <td>2010</td>\n",
              "      <td>127000</td>\n",
              "      <td>0</td>\n",
              "      <td>0</td>\n",
              "      <td>0</td>\n",
              "      <td>0</td>\n",
              "      <td>23.00</td>\n",
              "      <td>1396.0</td>\n",
              "      <td>90.00</td>\n",
              "      <td>5.0</td>\n",
              "    </tr>\n",
              "    <tr>\n",
              "      <th>4</th>\n",
              "      <td>2007</td>\n",
              "      <td>120000</td>\n",
              "      <td>1</td>\n",
              "      <td>0</td>\n",
              "      <td>0</td>\n",
              "      <td>0</td>\n",
              "      <td>16.10</td>\n",
              "      <td>1298.0</td>\n",
              "      <td>88.20</td>\n",
              "      <td>5.0</td>\n",
              "    </tr>\n",
              "    <tr>\n",
              "      <th>...</th>\n",
              "      <td>...</td>\n",
              "      <td>...</td>\n",
              "      <td>...</td>\n",
              "      <td>...</td>\n",
              "      <td>...</td>\n",
              "      <td>...</td>\n",
              "      <td>...</td>\n",
              "      <td>...</td>\n",
              "      <td>...</td>\n",
              "      <td>...</td>\n",
              "    </tr>\n",
              "    <tr>\n",
              "      <th>8123</th>\n",
              "      <td>2013</td>\n",
              "      <td>110000</td>\n",
              "      <td>1</td>\n",
              "      <td>0</td>\n",
              "      <td>0</td>\n",
              "      <td>0</td>\n",
              "      <td>18.50</td>\n",
              "      <td>1197.0</td>\n",
              "      <td>82.85</td>\n",
              "      <td>5.0</td>\n",
              "    </tr>\n",
              "    <tr>\n",
              "      <th>8124</th>\n",
              "      <td>2007</td>\n",
              "      <td>119000</td>\n",
              "      <td>0</td>\n",
              "      <td>0</td>\n",
              "      <td>0</td>\n",
              "      <td>3</td>\n",
              "      <td>16.80</td>\n",
              "      <td>1493.0</td>\n",
              "      <td>110.00</td>\n",
              "      <td>5.0</td>\n",
              "    </tr>\n",
              "    <tr>\n",
              "      <th>8125</th>\n",
              "      <td>2009</td>\n",
              "      <td>120000</td>\n",
              "      <td>0</td>\n",
              "      <td>0</td>\n",
              "      <td>0</td>\n",
              "      <td>0</td>\n",
              "      <td>19.30</td>\n",
              "      <td>1248.0</td>\n",
              "      <td>73.90</td>\n",
              "      <td>5.0</td>\n",
              "    </tr>\n",
              "    <tr>\n",
              "      <th>8126</th>\n",
              "      <td>2013</td>\n",
              "      <td>25000</td>\n",
              "      <td>0</td>\n",
              "      <td>0</td>\n",
              "      <td>0</td>\n",
              "      <td>0</td>\n",
              "      <td>23.57</td>\n",
              "      <td>1396.0</td>\n",
              "      <td>70.00</td>\n",
              "      <td>5.0</td>\n",
              "    </tr>\n",
              "    <tr>\n",
              "      <th>8127</th>\n",
              "      <td>2013</td>\n",
              "      <td>25000</td>\n",
              "      <td>0</td>\n",
              "      <td>0</td>\n",
              "      <td>0</td>\n",
              "      <td>0</td>\n",
              "      <td>23.57</td>\n",
              "      <td>1396.0</td>\n",
              "      <td>70.00</td>\n",
              "      <td>5.0</td>\n",
              "    </tr>\n",
              "  </tbody>\n",
              "</table>\n",
              "<p>7906 rows × 10 columns</p>\n",
              "</div>"
            ],
            "text/plain": [
              "      year  km_driven  fuel  seller_type  ...  mileage  engine  max_power  seats\n",
              "0     2014     145500     0            0  ...    23.40  1248.0      74.00    5.0\n",
              "1     2014     120000     0            0  ...    21.14  1498.0     103.52    5.0\n",
              "2     2006     140000     1            0  ...    17.70  1497.0      78.00    5.0\n",
              "3     2010     127000     0            0  ...    23.00  1396.0      90.00    5.0\n",
              "4     2007     120000     1            0  ...    16.10  1298.0      88.20    5.0\n",
              "...    ...        ...   ...          ...  ...      ...     ...        ...    ...\n",
              "8123  2013     110000     1            0  ...    18.50  1197.0      82.85    5.0\n",
              "8124  2007     119000     0            0  ...    16.80  1493.0     110.00    5.0\n",
              "8125  2009     120000     0            0  ...    19.30  1248.0      73.90    5.0\n",
              "8126  2013      25000     0            0  ...    23.57  1396.0      70.00    5.0\n",
              "8127  2013      25000     0            0  ...    23.57  1396.0      70.00    5.0\n",
              "\n",
              "[7906 rows x 10 columns]"
            ]
          },
          "metadata": {},
          "execution_count": 9
        }
      ]
    },
    {
      "cell_type": "code",
      "source": [
        "X = np.array(df2)\n",
        "Y = np.array(y_df)"
      ],
      "metadata": {
        "id": "Sp6qwznvIZoW"
      },
      "execution_count": null,
      "outputs": []
    },
    {
      "cell_type": "code",
      "source": [
        "x_train, x_test, y_train, y_test = train_test_split(X,Y, random_state = 44) "
      ],
      "metadata": {
        "id": "NV16MpvlJLo2"
      },
      "execution_count": null,
      "outputs": []
    },
    {
      "cell_type": "code",
      "source": [
        "pca_2 =PCA(n_components=1)\n",
        "pca_2_result = pca_2.fit_transform(x_train)\n",
        "print(np.sum(pca_2.explained_variance_ratio_))\n",
        "pca_2_result=np.hstack((pca_2_result,np.reshape(y_train*5, (y_train.shape[0],1))))  # giving higher weight to the selling_price \n",
        "print(pca_2_result)"
      ],
      "metadata": {
        "colab": {
          "base_uri": "https://localhost:8080/"
        },
        "id": "qcyFFF4VJimy",
        "outputId": "2dd9d3e3-9714-41f1-f4fc-8a6b6fbd266f"
      },
      "execution_count": null,
      "outputs": [
        {
          "output_type": "stream",
          "name": "stdout",
          "text": [
            "0.9999304156454022\n",
            "[[-6.94916431e+03  2.50000000e+05]\n",
            " [ 5.10703072e+01  4.62500000e+06]\n",
            " [-6.19173233e+04  3.89500000e+06]\n",
            " ...\n",
            " [ 6.05059261e+03  2.25000000e+06]\n",
            " [-5.89492499e+04  5.25000000e+06]\n",
            " [-5.39477920e+04  6.25000000e+06]]\n"
          ]
        }
      ]
    },
    {
      "cell_type": "code",
      "source": [
        "parameters = [2, 3, 4, 5, 6, 7, 8, 9, 10, 11, 12, 13, 14, 18,20,30,40]\n",
        "parameter_grid = ParameterGrid({'n_clusters': parameters})\n",
        "best_score = -1\n",
        "data=pca_2_result\n",
        "kmeans_model = KMeans()   \n",
        "silhouette_scores = []\n",
        "for p in parameter_grid:\n",
        "    kmeans_model.set_params(**p)    # set current hyper parameter\n",
        "    kmeans_model.fit(data)          # fit model on wine dataset, this will find clusters based on parameter p\n",
        "    ss = silhouette_score(data, kmeans_model.labels_)   # calculate silhouette_score\n",
        "    silhouette_scores += [ss]       # store all the scores\n",
        "    print('Parameter:', p, 'Score', ss)\n",
        "    # check p which has the best score\n",
        "    if ss > best_score:\n",
        "        best_score = ss\n",
        "        best_grid = p\n",
        "# plotting silhouette score\n",
        "plt.bar(range(len(silhouette_scores)), list(silhouette_scores), align='center', color='#722f59', width=0.5)\n",
        "plt.xticks(range(len(silhouette_scores)), list(parameters))\n",
        "plt.title('Silhouette Score', fontweight='bold')\n",
        "plt.xlabel('Number of Clusters')\n",
        "plt.show()"
      ],
      "metadata": {
        "colab": {
          "base_uri": "https://localhost:8080/",
          "height": 590
        },
        "id": "ARQfb5UfKKXS",
        "outputId": "c98eb758-7bc8-4806-b265-3ae4688e75b1"
      },
      "execution_count": null,
      "outputs": [
        {
          "output_type": "stream",
          "name": "stdout",
          "text": [
            "Parameter: {'n_clusters': 2} Score 0.8772999613832729\n",
            "Parameter: {'n_clusters': 3} Score 0.7900138137157138\n",
            "Parameter: {'n_clusters': 4} Score 0.5844853547116026\n",
            "Parameter: {'n_clusters': 5} Score 0.5946470036023372\n",
            "Parameter: {'n_clusters': 6} Score 0.5603835145697458\n",
            "Parameter: {'n_clusters': 7} Score 0.5645303879258359\n",
            "Parameter: {'n_clusters': 8} Score 0.5513255102747606\n",
            "Parameter: {'n_clusters': 9} Score 0.5457729518613113\n",
            "Parameter: {'n_clusters': 10} Score 0.5378746777035199\n",
            "Parameter: {'n_clusters': 11} Score 0.5400444437242039\n",
            "Parameter: {'n_clusters': 12} Score 0.5345896809446069\n",
            "Parameter: {'n_clusters': 13} Score 0.5333360898480343\n",
            "Parameter: {'n_clusters': 14} Score 0.5254501187945476\n",
            "Parameter: {'n_clusters': 18} Score 0.5195234271272176\n",
            "Parameter: {'n_clusters': 20} Score 0.5201257096329293\n",
            "Parameter: {'n_clusters': 30} Score 0.5094087395994458\n",
            "Parameter: {'n_clusters': 40} Score 0.5148487797833747\n"
          ]
        },
        {
          "output_type": "display_data",
          "data": {
            "image/png": "[encoded data removed]",
            "text/plain": [
              "<Figure size 432x288 with 1 Axes>"
            ]
          },
          "metadata": {
            "needs_background": "light"
          }
        }
      ]
    },
    {
      "cell_type": "code",
      "source": [
        "# fitting KMeans    \n",
        "kmeans = KMeans(n_clusters=10)   \n",
        "kmeans.fit(data)\n",
        "mydict = {i: np.where(kmeans.labels_ == i)[0] for i in range(kmeans.n_clusters)}\n"
      ],
      "metadata": {
        "id": "qbEVhlSJKqIZ"
      },
      "execution_count": null,
      "outputs": []
    },
    {
      "cell_type": "code",
      "source": [
        "for i, v in mydict.items():\n",
        "  xLabel =[]\n",
        "  yLabel=[]\n",
        "  for index in v:\n",
        "    xLabel.append([data[index][0]])\n",
        "    yLabel.append([data[index][1]])\n",
        "  x_c=np.array(xLabel)\n",
        "  \n",
        "  y_c=np.array(yLabel)\n",
        "  plt.scatter(y_c[:100] , x_c[:100] , label = i)\n",
        "plt.xlabel('Selling Price')\n",
        "plt.ylabel('PCA Result')\n",
        "plt.legend()\n",
        "plt.title('Clusters')\n",
        "plt.show()\n"
      ],
      "metadata": {
        "colab": {
          "base_uri": "https://localhost:8080/",
          "height": 295
        },
        "id": "8Ck7AAvdLvJR",
        "outputId": "c5e2598f-3169-4317-dae6-99797db9964e"
      },
      "execution_count": null,
      "outputs": [
        {
          "output_type": "display_data",
          "data": {
            "image/png": "[encoded data removed]",
            "text/plain": [
              "<Figure size 432x288 with 1 Axes>"
            ]
          },
          "metadata": {
            "needs_background": "light"
          }
        }
      ]
    },
    {
      "cell_type": "code",
      "source": [
        "# getting the selling_price range from the obtained clusters\n",
        "def getclasses(y):\n",
        "\n",
        "  y_class_labels = np.zeros(y.shape[0])\n",
        "  y_class_labels = y_class_labels.reshape(y.shape[0],1)\n",
        "  for i in mydict.keys():\n",
        "    for index in mydict[i]:\n",
        "      y_class_labels[index][0] = i\n",
        "  return y_class_labels"
      ],
      "metadata": {
        "id": "89ltYWpdMxRE"
      },
      "execution_count": null,
      "outputs": []
    },
    {
      "cell_type": "code",
      "source": [
        "y_train_class = getclasses(y_train)"
      ],
      "metadata": {
        "id": "fP9726UNNloD"
      },
      "execution_count": null,
      "outputs": []
    },
    {
      "cell_type": "code",
      "source": [
        "dt = DecisionTreeClassifier( random_state=0)\n",
        "dt.fit(x_train,y_train_class)"
      ],
      "metadata": {
        "colab": {
          "base_uri": "https://localhost:8080/"
        },
        "id": "qqgYanF0OM4T",
        "outputId": "ef389e67-3538-4e4f-9b5c-3ee74f0662bd"
      },
      "execution_count": null,
      "outputs": [
        {
          "output_type": "execute_result",
          "data": {
            "text/plain": [
              "DecisionTreeClassifier(random_state=0)"
            ]
          },
          "metadata": {},
          "execution_count": 18
        }
      ]
    },
    {
      "cell_type": "code",
      "source": [
        "y_pred = dt.predict(x_train)"
      ],
      "metadata": {
        "id": "Wp6384JoOje9"
      },
      "execution_count": null,
      "outputs": []
    },
    {
      "cell_type": "code",
      "source": [
        "def accuracy(y,y_pred):\n",
        "\n",
        "  return (list(y_pred - y).count(0) / y_pred.shape[0])"
      ],
      "metadata": {
        "id": "r7AKP6f7Onkm"
      },
      "execution_count": null,
      "outputs": []
    },
    {
      "cell_type": "code",
      "source": [
        "print(accuracy(y_pred, np.reshape(y_train_class, y_train_class.shape[0])))"
      ],
      "metadata": {
        "colab": {
          "base_uri": "https://localhost:8080/"
        },
        "id": "0U9z50UEOqib",
        "outputId": "cd79887e-9504-4b0f-edf8-dbd65d0abb3a"
      },
      "execution_count": null,
      "outputs": [
        {
          "output_type": "stream",
          "name": "stdout",
          "text": [
            "0.9861696744813628\n"
          ]
        }
      ]
    },
    {
      "cell_type": "code",
      "source": [
        "y_test_pred = dt.predict(x_test)"
      ],
      "metadata": {
        "id": "u3CHXTjdPHZ6"
      },
      "execution_count": null,
      "outputs": []
    },
    {
      "cell_type": "code",
      "source": [
        "dt.get_depth()"
      ],
      "metadata": {
        "colab": {
          "base_uri": "https://localhost:8080/"
        },
        "id": "tiXaq3_MQV49",
        "outputId": "f7ca8d58-bbe8-4856-a80d-03be5906be8d"
      },
      "execution_count": null,
      "outputs": [
        {
          "output_type": "execute_result",
          "data": {
            "text/plain": [
              "28"
            ]
          },
          "metadata": {},
          "execution_count": 23
        }
      ]
    },
    {
      "cell_type": "code",
      "source": [
        "def getPredictionValues(ypred , xtest):\n",
        "  minval = 10000000000000000000000000000000000000000000000\n",
        "  index = 0\n",
        "  for indexes in mydict[ypred]:\n",
        "    val = np.sum(abs(x_train[indexes] - xtest))\n",
        "    if(val<minval):\n",
        "      minval = val\n",
        "      index = indexes\n",
        "  return y_train[index]\n"
      ],
      "metadata": {
        "id": "HgOVcPQBPVj2"
      },
      "execution_count": null,
      "outputs": []
    },
    {
      "cell_type": "code",
      "source": [
        "test_final = []\n",
        "for i in range(y_test_pred.shape[0]):\n",
        "  y = getPredictionValues(y_test_pred[i], x_test[i])\n",
        "  test_final.append(y)"
      ],
      "metadata": {
        "id": "NpmD4rgtQN5H"
      },
      "execution_count": null,
      "outputs": []
    },
    {
      "cell_type": "code",
      "source": [
        "test_final[12]"
      ],
      "metadata": {
        "colab": {
          "base_uri": "https://localhost:8080/"
        },
        "id": "EwNz3k1zSiCk",
        "outputId": "d2cd6430-d7c1-4d82-d5cb-07a30c352d27"
      },
      "execution_count": null,
      "outputs": [
        {
          "output_type": "execute_result",
          "data": {
            "text/plain": [
              "4100000"
            ]
          },
          "metadata": {},
          "execution_count": 26
        }
      ]
    },
    {
      "cell_type": "code",
      "source": [
        "y_test[12]"
      ],
      "metadata": {
        "colab": {
          "base_uri": "https://localhost:8080/"
        },
        "id": "2a_vYi7NSv-a",
        "outputId": "f8696a16-64b9-46b7-8722-fed4527e0460"
      },
      "execution_count": null,
      "outputs": [
        {
          "output_type": "execute_result",
          "data": {
            "text/plain": [
              "4100000"
            ]
          },
          "metadata": {},
          "execution_count": 27
        }
      ]
    },
    {
      "cell_type": "code",
      "source": [
        "index=[]\n",
        "for i in range(len(test_final)):\n",
        "  index.append(i)\n",
        "\n",
        "plt.scatter(index,test_final)\n",
        "plt.scatter(index,y_test)\n",
        "plt.xlabel('Prices')\n",
        "plt.ylabel('Index')\n",
        "plt.legend('AP')\n",
        "plt.title('Hybrid Learning Prediction Vs Actual Values')\n",
        "plt.show()\n"
      ],
      "metadata": {
        "colab": {
          "base_uri": "https://localhost:8080/",
          "height": 295
        },
        "id": "kcnj5imNTJBT",
        "outputId": "a64be7f6-20b7-4209-9041-bd2f9dd33fb7"
      },
      "execution_count": null,
      "outputs": [
        {
          "output_type": "display_data",
          "data": {
            "image/png": "[encoded data removed]",
            "text/plain": [
              "<Figure size 432x288 with 1 Axes>"
            ]
          },
          "metadata": {
            "needs_background": "light"
          }
        }
      ]
    },
    {
      "cell_type": "code",
      "source": [
        "y_test_predictions = np.array(test_final)"
      ],
      "metadata": {
        "id": "mqOstVxiUSfV"
      },
      "execution_count": null,
      "outputs": []
    },
    {
      "cell_type": "code",
      "source": [
        "error = (np.sum((y_test - y_test_predictions)**2)/y_test.shape[0])**0.5"
      ],
      "metadata": {
        "id": "ZH6cSV6RWoTF"
      },
      "execution_count": null,
      "outputs": []
    },
    {
      "cell_type": "code",
      "source": [
        "error   "
      ],
      "metadata": {
        "colab": {
          "base_uri": "https://localhost:8080/"
        },
        "id": "dDY5ONwCW0h8",
        "outputId": "90f7e471-9302-4744-bc96-88bb8e8f6a6a"
      },
      "execution_count": null,
      "outputs": [
        {
          "output_type": "execute_result",
          "data": {
            "text/plain": [
              "162689.5776069962"
            ]
          },
          "metadata": {},
          "execution_count": 31
        }
      ]
    },
    {
      "cell_type": "code",
      "source": [
        "x_train.shape"
      ],
      "metadata": {
        "id": "W93X1uMCYO4V",
        "colab": {
          "base_uri": "https://localhost:8080/"
        },
        "outputId": "8a6ab192-d6f1-4dde-cd7f-e118ba941395"
      },
      "execution_count": null,
      "outputs": [
        {
          "output_type": "execute_result",
          "data": {
            "text/plain": [
              "(5929, 10)"
            ]
          },
          "metadata": {},
          "execution_count": 32
        }
      ]
    },
    {
      "cell_type": "code",
      "source": [
        "year = float(input(\"Enter the year of manufacturing:\"))\n",
        "km_driven = float(input(\"Enter the km_driven:\"))\n",
        "fuel =int(input(\"Select FuelType\\nEnter 0 for Diesel\\nEnter 1 for Petrol\\nEnter 2 for LPG\\nEnter 3 for CNG\\n\"))\n",
        "seller_type=int(input(\"Select SellerType\\nEnter 0 for Individual\\nEnter 1 for Dealer\\nEnter 2 for Trustmark Dealer\\n\"))\n",
        "transmission=int(input(\"Select TransmissionType\\nEnter 0 for Manual\\nEnter 1 for Automatic\\n\"))\n",
        "owner=int(input(\"Select OwnerType\\nEnter 0 for First Owner\\nEnter 1 for Second Owner\\nEnter 2 for Third Owner\\nEnter 3 for Fourth & Above Owner\\nEnter 4 for Test Drive Car\\n\"))\n",
        "mileage=float(input(\"Enter the mileage:\"))\n",
        "engine=float(input(\"Enter the engine power:\"))\n",
        "max_power=float(input(\"Enter the max_power:\"))\n",
        "seats=float(input(\"Enter the seats:\"))\n",
        "\n",
        "inputVal=np.array([year,km_driven,fuel,seller_type,transmission,owner,mileage,engine,max_power,seats])\n",
        "inputVal=inputVal.reshape(1,10)\n",
        "outputClass= dt.predict(inputVal)\n",
        "print(\"The predicted price:\",getPredictionValues(outputClass[0],inputVal))\n",
        "\n",
        "\n",
        "\n",
        "\n"
      ],
      "metadata": {
        "colab": {
          "base_uri": "https://localhost:8080/"
        },
        "id": "ezusiXr1cyds",
        "outputId": "f6f708ca-45bd-47a6-808f-4663330cf5bb"
      },
      "execution_count": null,
      "outputs": [
        {
          "output_type": "stream",
          "name": "stdout",
          "text": [
            "Enter the year of manufacturing:2020\n",
            "Enter the km_driven:124567\n",
            "Select FuelType\n",
            "Enter 0 for Diesel\n",
            "Enter 1 for Petrol\n",
            "Enter 2 for LPG\n",
            "Enter 3 for CNG\n",
            "3\n",
            "Select SellerType\n",
            "Enter 0 for Individual\n",
            "Enter 1 for Dealer\n",
            "Enter 2 for Trustmark Dealer\n",
            "2\n",
            "Select TransmissionType\n",
            "Enter 0 for Manual\n",
            "Enter 1 for Automatic\n",
            "1\n",
            "Select OwnerType\n",
            "Enter 0 for First Owner\n",
            "Enter 1 for Second Owner\n",
            "Enter 2 for Third Owner\n",
            "Enter 3 for Fourth & Above Owner\n",
            "Enter 4 for Test Drive Car\n",
            "56\n",
            "Enter the mileage:105\n",
            "Enter the engine power:100\n",
            "Enter the max_power:150\n",
            "Enter the seats:6\n",
            "The predicted price: 3100000\n"
          ]
        }
      ]
    }
  ]
}